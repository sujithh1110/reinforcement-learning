{
  "nbformat": 4,
  "nbformat_minor": 0,
  "metadata": {
    "colab": {
      "provenance": [],
      "authorship_tag": "ABX9TyOeQIRe//hjuPEJgZoBJRek",
      "include_colab_link": true
    },
    "kernelspec": {
      "name": "python3",
      "display_name": "Python 3"
    },
    "language_info": {
      "name": "python"
    }
  },
  "cells": [
    {
      "cell_type": "markdown",
      "metadata": {
        "id": "view-in-github",
        "colab_type": "text"
      },
      "source": [
        "<a href=\"https://colab.research.google.com/github/sujithh1110/reinforcement-learning/blob/main/lab07.ipynb\" target=\"_parent\"><img src=\"https://colab.research.google.com/assets/colab-badge.svg\" alt=\"Open In Colab\"/></a>"
      ]
    },
    {
      "cell_type": "code",
      "execution_count": 1,
      "metadata": {
        "colab": {
          "base_uri": "https://localhost:8080/"
        },
        "id": "q88AUe-OFO_j",
        "outputId": "1f98c06b-1127-411a-cc90-3abe2e8fb458"
      },
      "outputs": [
        {
          "output_type": "stream",
          "name": "stderr",
          "text": [
            "Gym has been unmaintained since 2022 and does not support NumPy 2.0 amongst other critical functionality.\n",
            "Please upgrade to Gymnasium, the maintained drop-in replacement of Gym, or contact the authors of your software and request that they upgrade.\n",
            "See the migration guide at https://gymnasium.farama.org/introduction/migration_guide/ for additional information.\n",
            "/usr/local/lib/python3.12/dist-packages/jupyter_client/session.py:203: DeprecationWarning: datetime.datetime.utcnow() is deprecated and scheduled for removal in a future version. Use timezone-aware objects to represent datetimes in UTC: datetime.datetime.now(datetime.UTC).\n",
            "  return datetime.utcnow().replace(tzinfo=utc)\n",
            "/usr/local/lib/python3.12/dist-packages/jupyter_client/session.py:203: DeprecationWarning: datetime.datetime.utcnow() is deprecated and scheduled for removal in a future version. Use timezone-aware objects to represent datetimes in UTC: datetime.datetime.now(datetime.UTC).\n",
            "  return datetime.utcnow().replace(tzinfo=utc)\n"
          ]
        }
      ],
      "source": [
        "# @title Default title text\n",
        "import gym\n",
        "import numpy as np\n",
        "import torch\n",
        "import torch.nn as nn\n",
        "from torch.distributions import Categorical\n",
        "import torch.optim as optim\n",
        "import matplotlib.pyplot as plt\n",
        "from collections import deque\n",
        "import random\n",
        "import time"
      ]
    },
    {
      "cell_type": "code",
      "source": [
        "class PolicyNet(nn.Module):\n",
        "    def __init__(self, obs_dim, hidden_size, n_actions):\n",
        "        super().__init__()\n",
        "        self.net = nn.Sequential(\n",
        "            nn.Linear(obs_dim, hidden_size),\n",
        "            nn.ReLU(),\n",
        "            nn.Linear(hidden_size, hidden_size),\n",
        "            nn.ReLU(),\n",
        "            nn.Linear(hidden_size, n_actions),\n",
        "            nn.Softmax(dim=-1)\n",
        "        )\n",
        "\n",
        "    def forward(self, x):\n",
        "        return self.net(x)\n"
      ],
      "metadata": {
        "id": "W6dMvGwITe8O"
      },
      "execution_count": 2,
      "outputs": []
    },
    {
      "cell_type": "code",
      "source": [
        "def discount_rewards(rewards, gamma):\n",
        "    discounted = []\n",
        "    R = 0.0\n",
        "    for r in reversed(rewards):\n",
        "        R = r + gamma * R\n",
        "        discounted.append(R)\n",
        "    discounted.reverse()\n",
        "    return discounted\n",
        "\n",
        "def run_episode(env, policy, device, render=False):\n",
        "    # handle env.reset() returning either obs or (obs, info)\n",
        "    reset_result = env.reset()\n",
        "    if isinstance(reset_result, tuple):\n",
        "        obs = reset_result[0]\n",
        "    else:\n",
        "        obs = reset_result\n",
        "\n",
        "    log_probs = []\n",
        "    rewards = []\n",
        "\n",
        "    while True:\n",
        "        obs_v = torch.tensor(obs, dtype=torch.float32, device=device).unsqueeze(0)\n",
        "        probs = policy(obs_v).squeeze(0)\n",
        "        m = Categorical(probs)\n",
        "        action = m.sample()\n",
        "        log_prob = m.log_prob(action)\n",
        "\n",
        "        step_result = env.step(action.item())\n",
        "\n",
        "        # handle 4-tuple (obs, reward, done, info)\n",
        "        # and 5-tuple (obs, reward, terminated, truncated, info)\n",
        "        if len(step_result) == 4:\n",
        "            obs, reward, done, info = step_result\n",
        "        else:\n",
        "            obs, reward, terminated, truncated, info = step_result\n",
        "            done = terminated or truncated\n",
        "\n",
        "        log_probs.append(log_prob)\n",
        "        rewards.append(reward)\n",
        "\n",
        "        if render:\n",
        "            try:\n",
        "                env.render()\n",
        "            except Exception:\n",
        "                pass\n",
        "\n",
        "        if done:\n",
        "            break\n",
        "\n",
        "    return log_probs, rewards\n"
      ],
      "metadata": {
        "id": "I0_1Y9q-TygY"
      },
      "execution_count": 3,
      "outputs": []
    },
    {
      "cell_type": "code",
      "source": [
        "def train_reinforce(env_name='CartPole-v1',\n",
        "                    hidden_size=128,\n",
        "                    lr=1e-2,\n",
        "                    gamma=0.99,\n",
        "                    batch_size=5,\n",
        "                    max_episodes=1000,\n",
        "                    seed=0,\n",
        "                    device=None,\n",
        "                    render=False):\n",
        "    if device is None:\n",
        "        device = torch.device(\"cuda\" if torch.cuda.is_available() else \"cpu\")\n",
        "\n",
        "    env = gym.make(env_name)\n",
        "\n",
        "    # robust seeding (works across gym versions)\n",
        "    try:\n",
        "        env.reset(seed=seed)\n",
        "    except TypeError:\n",
        "        try:\n",
        "            env.seed(seed)\n",
        "        except Exception:\n",
        "            pass\n",
        "    try:\n",
        "        env.action_space.seed(seed)\n",
        "    except Exception:\n",
        "        pass\n",
        "    np.random.seed(seed)\n",
        "    torch.manual_seed(seed)\n",
        "    random.seed(seed)\n",
        "\n",
        "    obs_dim = env.observation_space.shape[0]\n",
        "    n_actions = env.action_space.n\n",
        "\n",
        "    policy = PolicyNet(obs_dim, hidden_size, n_actions).to(device)\n",
        "    optimizer = optim.Adam(policy.parameters(), lr=lr)\n",
        "\n",
        "    running_rewards = []\n",
        "    mean_rewards_history = []\n",
        "    reward_deque = deque(maxlen=100)\n",
        "\n",
        "    episode = 0\n",
        "    start_time = time.time()\n",
        "\n",
        "    while episode < max_episodes:\n",
        "        batch_log_probs = []\n",
        "        batch_returns = []\n",
        "        batch_episode_rewards = []\n",
        "\n",
        "        for _ in range(batch_size):\n",
        "            log_probs, rewards = run_episode(env, policy, device, render=render)\n",
        "            returns = discount_rewards(rewards, gamma)\n",
        "\n",
        "            # stack log_probs for this episode and make returns tensor\n",
        "            log_probs_tensor = torch.stack(log_probs)\n",
        "            returns_tensor = torch.tensor(returns, dtype=torch.float32, device=device)\n",
        "\n",
        "            # normalize returns (avoid division by zero)\n",
        "            if returns_tensor.size(0) > 1:\n",
        "                returns_tensor = (returns_tensor - returns_tensor.mean()) / (returns_tensor.std() + 1e-8)\n",
        "\n",
        "            batch_log_probs.append(log_probs_tensor)\n",
        "            batch_returns.append(returns_tensor)\n",
        "\n",
        "            ep_reward = float(sum(rewards))\n",
        "            batch_episode_rewards.append(ep_reward)\n",
        "            reward_deque.append(ep_reward)\n",
        "            running_rewards.append(ep_reward)\n",
        "            episode += 1\n",
        "\n",
        "        optimizer.zero_grad()\n",
        "        # initialize loss as tensor on correct device\n",
        "        loss = torch.tensor(0.0, dtype=torch.float32, device=device)\n",
        "\n",
        "        for lp, R in zip(batch_log_probs, batch_returns):\n",
        "            # (lp * R) multiplies per-timestep; sum over timesteps\n",
        "            loss = loss + (- (lp * R).sum())\n",
        "\n",
        "        loss = loss / batch_size\n",
        "        loss.backward()\n",
        "        optimizer.step()\n",
        "\n",
        "        mean_reward = np.mean(batch_episode_rewards)\n",
        "        mean_last100 = np.mean(reward_deque) if len(reward_deque) > 0 else mean_reward\n",
        "        mean_rewards_history.append(mean_last100)\n",
        "\n",
        "        if episode % 10 == 0 or episode == 1:\n",
        "            print(f\"Episode: {episode:4d}\\tBatch mean: {mean_reward:.2f}\\tLast100 mean: {mean_last100:.2f}\\tLoss: {loss.item():.4f}\")\n",
        "\n",
        "        if mean_last100 >= 195.0 and len(reward_deque) == 100:\n",
        "            print(f\"Solved in {episode} episodes! Average reward {mean_last100:.2f} over last 100 episodes.\")\n",
        "            break\n",
        "\n",
        "    total_time = time.time() - start_time\n",
        "    print(f\"Training finished after {episode} episodes and {total_time:.1f}s\")\n",
        "    try:\n",
        "        env.close()\n",
        "    except Exception:\n",
        "        pass\n",
        "\n",
        "    return policy, running_rewards, mean_rewards_history\n",
        "\n"
      ],
      "metadata": {
        "id": "CLFZRyjCT23W"
      },
      "execution_count": 4,
      "outputs": []
    },
    {
      "cell_type": "code",
      "source": [
        "def plot_rewards(running_rewards, mean_rewards_history):\n",
        "    plt.figure(figsize=(10,4))\n",
        "    plt.subplot(1,2,1)\n",
        "    plt.plot(running_rewards, alpha=0.6)\n",
        "    plt.title(\"Episode rewards\")\n",
        "    plt.xlabel(\"Episode\")\n",
        "    plt.ylabel(\"Reward\")\n",
        "\n",
        "    plt.subplot(1,2,2)\n",
        "    plt.plot(mean_rewards_history)\n",
        "    plt.title(\"100-episode moving mean\")\n",
        "    plt.xlabel(\"Batch\")\n",
        "    plt.tight_layout()\n",
        "    plt.show()\n"
      ],
      "metadata": {
        "id": "_9Iur-c4T7vx"
      },
      "execution_count": 5,
      "outputs": []
    },
    {
      "cell_type": "code",
      "source": [
        "if __name__ == \"__main__\":\n",
        "    policy, running_rewards, mean_hist = train_reinforce(\n",
        "        env_name='CartPole-v1',\n",
        "        hidden_size=128,\n",
        "        lr=1e-2,\n",
        "        gamma=0.99,\n",
        "        batch_size=10,    # adjust as needed\n",
        "        max_episodes=2000,\n",
        "        seed=42,\n",
        "        render=False\n",
        "    )\n",
        "    plot_rewards(running_rewards, mean_hist)\n"
      ],
      "metadata": {
        "colab": {
          "base_uri": "https://localhost:8080/",
          "height": 500
        },
        "id": "Mxb_n2aUT87w",
        "outputId": "23dff3d9-e21a-4fe6-82ba-c6db23088449"
      },
      "execution_count": 6,
      "outputs": [
        {
          "output_type": "stream",
          "name": "stderr",
          "text": [
            "/usr/local/lib/python3.12/dist-packages/gym/core.py:317: DeprecationWarning: \u001b[33mWARN: Initializing wrapper in old step API which returns one bool instead of two. It is recommended to set `new_step_api=True` to use new step API. This will be the default behaviour in future.\u001b[0m\n",
            "  deprecation(\n",
            "/usr/local/lib/python3.12/dist-packages/gym/wrappers/step_api_compatibility.py:39: DeprecationWarning: \u001b[33mWARN: Initializing environment in old step API which returns one bool instead of two. It is recommended to set `new_step_api=True` to use new step API. This will be the default behaviour in future.\u001b[0m\n",
            "  deprecation(\n"
          ]
        },
        {
          "output_type": "error",
          "ename": "AttributeError",
          "evalue": "module 'numpy' has no attribute 'bool8'",
          "traceback": [
            "\u001b[0;31m---------------------------------------------------------------------------\u001b[0m",
            "\u001b[0;31mAttributeError\u001b[0m                            Traceback (most recent call last)",
            "\u001b[0;32m/tmp/ipython-input-1052679495.py\u001b[0m in \u001b[0;36m<cell line: 0>\u001b[0;34m()\u001b[0m\n\u001b[1;32m      1\u001b[0m \u001b[0;32mif\u001b[0m \u001b[0m__name__\u001b[0m \u001b[0;34m==\u001b[0m \u001b[0;34m\"__main__\"\u001b[0m\u001b[0;34m:\u001b[0m\u001b[0;34m\u001b[0m\u001b[0;34m\u001b[0m\u001b[0m\n\u001b[0;32m----> 2\u001b[0;31m     policy, running_rewards, mean_hist = train_reinforce(\n\u001b[0m\u001b[1;32m      3\u001b[0m         \u001b[0menv_name\u001b[0m\u001b[0;34m=\u001b[0m\u001b[0;34m'CartPole-v1'\u001b[0m\u001b[0;34m,\u001b[0m\u001b[0;34m\u001b[0m\u001b[0;34m\u001b[0m\u001b[0m\n\u001b[1;32m      4\u001b[0m         \u001b[0mhidden_size\u001b[0m\u001b[0;34m=\u001b[0m\u001b[0;36m128\u001b[0m\u001b[0;34m,\u001b[0m\u001b[0;34m\u001b[0m\u001b[0;34m\u001b[0m\u001b[0m\n\u001b[1;32m      5\u001b[0m         \u001b[0mlr\u001b[0m\u001b[0;34m=\u001b[0m\u001b[0;36m1e-2\u001b[0m\u001b[0;34m,\u001b[0m\u001b[0;34m\u001b[0m\u001b[0;34m\u001b[0m\u001b[0m\n",
            "\u001b[0;32m/tmp/ipython-input-615590166.py\u001b[0m in \u001b[0;36mtrain_reinforce\u001b[0;34m(env_name, hidden_size, lr, gamma, batch_size, max_episodes, seed, device, render)\u001b[0m\n\u001b[1;32m     48\u001b[0m \u001b[0;34m\u001b[0m\u001b[0m\n\u001b[1;32m     49\u001b[0m         \u001b[0;32mfor\u001b[0m \u001b[0m_\u001b[0m \u001b[0;32min\u001b[0m \u001b[0mrange\u001b[0m\u001b[0;34m(\u001b[0m\u001b[0mbatch_size\u001b[0m\u001b[0;34m)\u001b[0m\u001b[0;34m:\u001b[0m\u001b[0;34m\u001b[0m\u001b[0;34m\u001b[0m\u001b[0m\n\u001b[0;32m---> 50\u001b[0;31m             \u001b[0mlog_probs\u001b[0m\u001b[0;34m,\u001b[0m \u001b[0mrewards\u001b[0m \u001b[0;34m=\u001b[0m \u001b[0mrun_episode\u001b[0m\u001b[0;34m(\u001b[0m\u001b[0menv\u001b[0m\u001b[0;34m,\u001b[0m \u001b[0mpolicy\u001b[0m\u001b[0;34m,\u001b[0m \u001b[0mdevice\u001b[0m\u001b[0;34m,\u001b[0m \u001b[0mrender\u001b[0m\u001b[0;34m=\u001b[0m\u001b[0mrender\u001b[0m\u001b[0;34m)\u001b[0m\u001b[0;34m\u001b[0m\u001b[0;34m\u001b[0m\u001b[0m\n\u001b[0m\u001b[1;32m     51\u001b[0m             \u001b[0mreturns\u001b[0m \u001b[0;34m=\u001b[0m \u001b[0mdiscount_rewards\u001b[0m\u001b[0;34m(\u001b[0m\u001b[0mrewards\u001b[0m\u001b[0;34m,\u001b[0m \u001b[0mgamma\u001b[0m\u001b[0;34m)\u001b[0m\u001b[0;34m\u001b[0m\u001b[0;34m\u001b[0m\u001b[0m\n\u001b[1;32m     52\u001b[0m \u001b[0;34m\u001b[0m\u001b[0m\n",
            "\u001b[0;32m/tmp/ipython-input-1440233940.py\u001b[0m in \u001b[0;36mrun_episode\u001b[0;34m(env, policy, device, render)\u001b[0m\n\u001b[1;32m     26\u001b[0m         \u001b[0mlog_prob\u001b[0m \u001b[0;34m=\u001b[0m \u001b[0mm\u001b[0m\u001b[0;34m.\u001b[0m\u001b[0mlog_prob\u001b[0m\u001b[0;34m(\u001b[0m\u001b[0maction\u001b[0m\u001b[0;34m)\u001b[0m\u001b[0;34m\u001b[0m\u001b[0;34m\u001b[0m\u001b[0m\n\u001b[1;32m     27\u001b[0m \u001b[0;34m\u001b[0m\u001b[0m\n\u001b[0;32m---> 28\u001b[0;31m         \u001b[0mstep_result\u001b[0m \u001b[0;34m=\u001b[0m \u001b[0menv\u001b[0m\u001b[0;34m.\u001b[0m\u001b[0mstep\u001b[0m\u001b[0;34m(\u001b[0m\u001b[0maction\u001b[0m\u001b[0;34m.\u001b[0m\u001b[0mitem\u001b[0m\u001b[0;34m(\u001b[0m\u001b[0;34m)\u001b[0m\u001b[0;34m)\u001b[0m\u001b[0;34m\u001b[0m\u001b[0;34m\u001b[0m\u001b[0m\n\u001b[0m\u001b[1;32m     29\u001b[0m \u001b[0;34m\u001b[0m\u001b[0m\n\u001b[1;32m     30\u001b[0m         \u001b[0;31m# handle 4-tuple (obs, reward, done, info)\u001b[0m\u001b[0;34m\u001b[0m\u001b[0;34m\u001b[0m\u001b[0m\n",
            "\u001b[0;32m/usr/local/lib/python3.12/dist-packages/gym/wrappers/time_limit.py\u001b[0m in \u001b[0;36mstep\u001b[0;34m(self, action)\u001b[0m\n\u001b[1;32m     58\u001b[0m         \"\"\"\n\u001b[1;32m     59\u001b[0m         observation, reward, terminated, truncated, info = step_api_compatibility(\n\u001b[0;32m---> 60\u001b[0;31m             \u001b[0mself\u001b[0m\u001b[0;34m.\u001b[0m\u001b[0menv\u001b[0m\u001b[0;34m.\u001b[0m\u001b[0mstep\u001b[0m\u001b[0;34m(\u001b[0m\u001b[0maction\u001b[0m\u001b[0;34m)\u001b[0m\u001b[0;34m,\u001b[0m\u001b[0;34m\u001b[0m\u001b[0;34m\u001b[0m\u001b[0m\n\u001b[0m\u001b[1;32m     61\u001b[0m             \u001b[0;32mTrue\u001b[0m\u001b[0;34m,\u001b[0m\u001b[0;34m\u001b[0m\u001b[0;34m\u001b[0m\u001b[0m\n\u001b[1;32m     62\u001b[0m         )\n",
            "\u001b[0;32m/usr/local/lib/python3.12/dist-packages/gym/wrappers/order_enforcing.py\u001b[0m in \u001b[0;36mstep\u001b[0;34m(self, action)\u001b[0m\n\u001b[1;32m     35\u001b[0m         \u001b[0;32mif\u001b[0m \u001b[0;32mnot\u001b[0m \u001b[0mself\u001b[0m\u001b[0;34m.\u001b[0m\u001b[0m_has_reset\u001b[0m\u001b[0;34m:\u001b[0m\u001b[0;34m\u001b[0m\u001b[0;34m\u001b[0m\u001b[0m\n\u001b[1;32m     36\u001b[0m             \u001b[0;32mraise\u001b[0m \u001b[0mResetNeeded\u001b[0m\u001b[0;34m(\u001b[0m\u001b[0;34m\"Cannot call env.step() before calling env.reset()\"\u001b[0m\u001b[0;34m)\u001b[0m\u001b[0;34m\u001b[0m\u001b[0;34m\u001b[0m\u001b[0m\n\u001b[0;32m---> 37\u001b[0;31m         \u001b[0;32mreturn\u001b[0m \u001b[0mself\u001b[0m\u001b[0;34m.\u001b[0m\u001b[0menv\u001b[0m\u001b[0;34m.\u001b[0m\u001b[0mstep\u001b[0m\u001b[0;34m(\u001b[0m\u001b[0maction\u001b[0m\u001b[0;34m)\u001b[0m\u001b[0;34m\u001b[0m\u001b[0;34m\u001b[0m\u001b[0m\n\u001b[0m\u001b[1;32m     38\u001b[0m \u001b[0;34m\u001b[0m\u001b[0m\n\u001b[1;32m     39\u001b[0m     \u001b[0;32mdef\u001b[0m \u001b[0mreset\u001b[0m\u001b[0;34m(\u001b[0m\u001b[0mself\u001b[0m\u001b[0;34m,\u001b[0m \u001b[0;34m**\u001b[0m\u001b[0mkwargs\u001b[0m\u001b[0;34m)\u001b[0m\u001b[0;34m:\u001b[0m\u001b[0;34m\u001b[0m\u001b[0;34m\u001b[0m\u001b[0m\n",
            "\u001b[0;32m/usr/local/lib/python3.12/dist-packages/gym/wrappers/step_api_compatibility.py\u001b[0m in \u001b[0;36mstep\u001b[0;34m(self, action)\u001b[0m\n\u001b[1;32m     50\u001b[0m             \u001b[0;34m(\u001b[0m\u001b[0mobservation\u001b[0m\u001b[0;34m,\u001b[0m \u001b[0mreward\u001b[0m\u001b[0;34m,\u001b[0m \u001b[0mterminated\u001b[0m\u001b[0;34m,\u001b[0m \u001b[0mtruncated\u001b[0m\u001b[0;34m,\u001b[0m \u001b[0minfo\u001b[0m\u001b[0;34m)\u001b[0m \u001b[0;32mor\u001b[0m \u001b[0;34m(\u001b[0m\u001b[0mobservation\u001b[0m\u001b[0;34m,\u001b[0m \u001b[0mreward\u001b[0m\u001b[0;34m,\u001b[0m \u001b[0mdone\u001b[0m\u001b[0;34m,\u001b[0m \u001b[0minfo\u001b[0m\u001b[0;34m)\u001b[0m\u001b[0;34m\u001b[0m\u001b[0;34m\u001b[0m\u001b[0m\n\u001b[1;32m     51\u001b[0m         \"\"\"\n\u001b[0;32m---> 52\u001b[0;31m         \u001b[0mstep_returns\u001b[0m \u001b[0;34m=\u001b[0m \u001b[0mself\u001b[0m\u001b[0;34m.\u001b[0m\u001b[0menv\u001b[0m\u001b[0;34m.\u001b[0m\u001b[0mstep\u001b[0m\u001b[0;34m(\u001b[0m\u001b[0maction\u001b[0m\u001b[0;34m)\u001b[0m\u001b[0;34m\u001b[0m\u001b[0;34m\u001b[0m\u001b[0m\n\u001b[0m\u001b[1;32m     53\u001b[0m         \u001b[0;32mif\u001b[0m \u001b[0mself\u001b[0m\u001b[0;34m.\u001b[0m\u001b[0mnew_step_api\u001b[0m\u001b[0;34m:\u001b[0m\u001b[0;34m\u001b[0m\u001b[0;34m\u001b[0m\u001b[0m\n\u001b[1;32m     54\u001b[0m             \u001b[0;32mreturn\u001b[0m \u001b[0mstep_to_new_api\u001b[0m\u001b[0;34m(\u001b[0m\u001b[0mstep_returns\u001b[0m\u001b[0;34m)\u001b[0m\u001b[0;34m\u001b[0m\u001b[0;34m\u001b[0m\u001b[0m\n",
            "\u001b[0;32m/usr/local/lib/python3.12/dist-packages/gym/wrappers/env_checker.py\u001b[0m in \u001b[0;36mstep\u001b[0;34m(self, action)\u001b[0m\n\u001b[1;32m     35\u001b[0m         \u001b[0;32mif\u001b[0m \u001b[0mself\u001b[0m\u001b[0;34m.\u001b[0m\u001b[0mchecked_step\u001b[0m \u001b[0;32mis\u001b[0m \u001b[0;32mFalse\u001b[0m\u001b[0;34m:\u001b[0m\u001b[0;34m\u001b[0m\u001b[0;34m\u001b[0m\u001b[0m\n\u001b[1;32m     36\u001b[0m             \u001b[0mself\u001b[0m\u001b[0;34m.\u001b[0m\u001b[0mchecked_step\u001b[0m \u001b[0;34m=\u001b[0m \u001b[0;32mTrue\u001b[0m\u001b[0;34m\u001b[0m\u001b[0;34m\u001b[0m\u001b[0m\n\u001b[0;32m---> 37\u001b[0;31m             \u001b[0;32mreturn\u001b[0m \u001b[0menv_step_passive_checker\u001b[0m\u001b[0;34m(\u001b[0m\u001b[0mself\u001b[0m\u001b[0;34m.\u001b[0m\u001b[0menv\u001b[0m\u001b[0;34m,\u001b[0m \u001b[0maction\u001b[0m\u001b[0;34m)\u001b[0m\u001b[0;34m\u001b[0m\u001b[0;34m\u001b[0m\u001b[0m\n\u001b[0m\u001b[1;32m     38\u001b[0m         \u001b[0;32melse\u001b[0m\u001b[0;34m:\u001b[0m\u001b[0;34m\u001b[0m\u001b[0;34m\u001b[0m\u001b[0m\n\u001b[1;32m     39\u001b[0m             \u001b[0;32mreturn\u001b[0m \u001b[0mself\u001b[0m\u001b[0;34m.\u001b[0m\u001b[0menv\u001b[0m\u001b[0;34m.\u001b[0m\u001b[0mstep\u001b[0m\u001b[0;34m(\u001b[0m\u001b[0maction\u001b[0m\u001b[0;34m)\u001b[0m\u001b[0;34m\u001b[0m\u001b[0;34m\u001b[0m\u001b[0m\n",
            "\u001b[0;32m/usr/local/lib/python3.12/dist-packages/gym/utils/passive_env_checker.py\u001b[0m in \u001b[0;36menv_step_passive_checker\u001b[0;34m(env, action)\u001b[0m\n\u001b[1;32m    239\u001b[0m \u001b[0;34m\u001b[0m\u001b[0m\n\u001b[1;32m    240\u001b[0m         \u001b[0;31m# np.bool is actual python bool not np boolean type, therefore bool_ or bool8\u001b[0m\u001b[0;34m\u001b[0m\u001b[0;34m\u001b[0m\u001b[0m\n\u001b[0;32m--> 241\u001b[0;31m         \u001b[0;32mif\u001b[0m \u001b[0;32mnot\u001b[0m \u001b[0misinstance\u001b[0m\u001b[0;34m(\u001b[0m\u001b[0mterminated\u001b[0m\u001b[0;34m,\u001b[0m \u001b[0;34m(\u001b[0m\u001b[0mbool\u001b[0m\u001b[0;34m,\u001b[0m \u001b[0mnp\u001b[0m\u001b[0;34m.\u001b[0m\u001b[0mbool8\u001b[0m\u001b[0;34m)\u001b[0m\u001b[0;34m)\u001b[0m\u001b[0;34m:\u001b[0m\u001b[0;34m\u001b[0m\u001b[0;34m\u001b[0m\u001b[0m\n\u001b[0m\u001b[1;32m    242\u001b[0m             logger.warn(\n\u001b[1;32m    243\u001b[0m                 \u001b[0;34mf\"Expects `terminated` signal to be a boolean, actual type: {type(terminated)}\"\u001b[0m\u001b[0;34m\u001b[0m\u001b[0;34m\u001b[0m\u001b[0m\n",
            "\u001b[0;32m/usr/local/lib/python3.12/dist-packages/numpy/__init__.py\u001b[0m in \u001b[0;36m__getattr__\u001b[0;34m(attr)\u001b[0m\n\u001b[1;32m    408\u001b[0m             \u001b[0;32mreturn\u001b[0m \u001b[0mchar\u001b[0m\u001b[0;34m.\u001b[0m\u001b[0mchararray\u001b[0m\u001b[0;34m\u001b[0m\u001b[0;34m\u001b[0m\u001b[0m\n\u001b[1;32m    409\u001b[0m \u001b[0;34m\u001b[0m\u001b[0m\n\u001b[0;32m--> 410\u001b[0;31m         raise AttributeError(\"module {!r} has no attribute \"\n\u001b[0m\u001b[1;32m    411\u001b[0m                              \"{!r}\".format(__name__, attr))\n\u001b[1;32m    412\u001b[0m \u001b[0;34m\u001b[0m\u001b[0m\n",
            "\u001b[0;31mAttributeError\u001b[0m: module 'numpy' has no attribute 'bool8'"
          ]
        },
        {
          "output_type": "stream",
          "name": "stderr",
          "text": [
            "/usr/local/lib/python3.12/dist-packages/jupyter_client/session.py:203: DeprecationWarning: datetime.datetime.utcnow() is deprecated and scheduled for removal in a future version. Use timezone-aware objects to represent datetimes in UTC: datetime.datetime.now(datetime.UTC).\n",
            "  return datetime.utcnow().replace(tzinfo=utc)\n"
          ]
        }
      ]
    },
    {
      "cell_type": "code",
      "source": [],
      "metadata": {
        "id": "FwHnT6egUCi-"
      },
      "execution_count": null,
      "outputs": []
    },
    {
      "cell_type": "code",
      "metadata": {
        "colab": {
          "base_uri": "https://localhost:8080/"
        },
        "id": "0080fa4f",
        "outputId": "45859c3f-4208-448d-b7f4-f35e8cff09ad"
      },
      "source": [
        "!pip install gymnasium"
      ],
      "execution_count": 7,
      "outputs": [
        {
          "output_type": "stream",
          "name": "stdout",
          "text": [
            "Requirement already satisfied: gymnasium in /usr/local/lib/python3.12/dist-packages (1.2.0)\n",
            "Requirement already satisfied: numpy>=1.21.0 in /usr/local/lib/python3.12/dist-packages (from gymnasium) (2.0.2)\n",
            "Requirement already satisfied: cloudpickle>=1.2.0 in /usr/local/lib/python3.12/dist-packages (from gymnasium) (3.1.1)\n",
            "Requirement already satisfied: typing-extensions>=4.3.0 in /usr/local/lib/python3.12/dist-packages (from gymnasium) (4.15.0)\n",
            "Requirement already satisfied: farama-notifications>=0.0.1 in /usr/local/lib/python3.12/dist-packages (from gymnasium) (0.0.4)\n"
          ]
        }
      ]
    },
    {
      "cell_type": "code",
      "metadata": {
        "colab": {
          "base_uri": "https://localhost:8080/"
        },
        "id": "caab9308",
        "outputId": "b9ad2064-6210-4c77-d075-3858ff72b15c"
      },
      "source": [
        "import gymnasium as gym # Import gymnasium with the alias gym\n",
        "\n",
        "# The rest of your imports remain the same\n",
        "import numpy as np\n",
        "import torch\n",
        "import torch.nn as nn\n",
        "from torch.distributions import Categorical\n",
        "import torch.optim as optim\n",
        "import matplotlib.pyplot as plt\n",
        "from collections import deque\n",
        "import random\n",
        "import time"
      ],
      "execution_count": 8,
      "outputs": [
        {
          "output_type": "stream",
          "name": "stderr",
          "text": [
            "/usr/local/lib/python3.12/dist-packages/jupyter_client/session.py:203: DeprecationWarning: datetime.datetime.utcnow() is deprecated and scheduled for removal in a future version. Use timezone-aware objects to represent datetimes in UTC: datetime.datetime.now(datetime.UTC).\n",
            "  return datetime.utcnow().replace(tzinfo=utc)\n"
          ]
        }
      ]
    },
    {
      "cell_type": "code",
      "metadata": {
        "id": "b9808a19"
      },
      "source": [
        "class PolicyNet(nn.Module):\n",
        "    def __init__(self, obs_dim, hidden_size, n_actions):\n",
        "        super().__init__()\n",
        "        self.net = nn.Sequential(\n",
        "            nn.Linear(obs_dim, hidden_size),\n",
        "            nn.ReLU(),\n",
        "            nn.Linear(hidden_size, hidden_size),\n",
        "            nn.ReLU(),\n",
        "            nn.Linear(hidden_size, n_actions),\n",
        "            nn.Softmax(dim=-1)\n",
        "        )\n",
        "\n",
        "    def forward(self, x):\n",
        "        return self.net(x)"
      ],
      "execution_count": 9,
      "outputs": []
    },
    {
      "cell_type": "code",
      "metadata": {
        "id": "110e06f4"
      },
      "source": [
        "def discount_rewards(rewards, gamma):\n",
        "    discounted = []\n",
        "    R = 0.0\n",
        "    for r in reversed(rewards):\n",
        "        R = r + gamma * R\n",
        "        discounted.append(R)\n",
        "    discounted.reverse()\n",
        "    return discounted\n",
        "\n",
        "def run_episode(env, policy, device, render=False):\n",
        "    # handle env.reset() returning either obs or (obs, info)\n",
        "    reset_result = env.reset()\n",
        "    if isinstance(reset_result, tuple):\n",
        "        obs = reset_result[0]\n",
        "    else:\n",
        "        obs = reset_result\n",
        "\n",
        "    log_probs = []\n",
        "    rewards = []\n",
        "\n",
        "    while True:\n",
        "        obs_v = torch.tensor(obs, dtype=torch.float32, device=device).unsqueeze(0)\n",
        "        probs = policy(obs_v).squeeze(0)\n",
        "        m = Categorical(probs)\n",
        "        action = m.sample()\n",
        "        log_prob = m.log_prob(action)\n",
        "\n",
        "        step_result = env.step(action.item())\n",
        "\n",
        "        # handle 4-tuple (obs, reward, done, info)\n",
        "        # and 5-tuple (obs, reward, terminated, truncated, info)\n",
        "        if len(step_result) == 4:\n",
        "            obs, reward, done, info = step_result\n",
        "        else:\n",
        "            obs, reward, terminated, truncated, info = step_result\n",
        "            done = terminated or truncated\n",
        "\n",
        "\n",
        "        log_probs.append(log_prob)\n",
        "        rewards.append(reward)\n",
        "\n",
        "        if render:\n",
        "            try:\n",
        "                env.render()\n",
        "            except Exception:\n",
        "                pass\n",
        "\n",
        "        if done:\n",
        "            break\n",
        "\n",
        "    return log_probs, rewards"
      ],
      "execution_count": 10,
      "outputs": []
    },
    {
      "cell_type": "code",
      "metadata": {
        "id": "6e3bb302"
      },
      "source": [
        "def train_reinforce(env_name='CartPole-v1',\n",
        "                    hidden_size=128,\n",
        "                    lr=1e-2,\n",
        "                    gamma=0.99,\n",
        "                    batch_size=5,\n",
        "                    max_episodes=1000,\n",
        "                    seed=0,\n",
        "                    device=None,\n",
        "                    render=False):\n",
        "    if device is None:\n",
        "        device = torch.device(\"cuda\" if torch.cuda.is_available() else \"cpu\")\n",
        "\n",
        "    env = gym.make(env_name)\n",
        "\n",
        "    # robust seeding (works across gym versions)\n",
        "    try:\n",
        "        env.reset(seed=seed)\n",
        "    except TypeError:\n",
        "        try:\n",
        "            env.seed(seed)\n",
        "        except Exception:\n",
        "            pass\n",
        "    try:\n",
        "        env.action_space.seed(seed)\n",
        "    except Exception:\n",
        "        pass\n",
        "    np.random.seed(seed)\n",
        "    torch.manual_seed(seed)\n",
        "    random.seed(seed)\n",
        "\n",
        "\n",
        "    obs_dim = env.observation_space.shape[0]\n",
        "    n_actions = env.action_space.n\n",
        "\n",
        "    policy = PolicyNet(obs_dim, hidden_size, n_actions).to(device)\n",
        "    optimizer = optim.Adam(policy.parameters(), lr=lr)\n",
        "\n",
        "    running_rewards = []\n",
        "    mean_rewards_history = []\n",
        "    reward_deque = deque(maxlen=100)\n",
        "\n",
        "    episode = 0\n",
        "    start_time = time.time()\n",
        "\n",
        "    while episode < max_episodes:\n",
        "        batch_log_probs = []\n",
        "        batch_returns = []\n",
        "        batch_episode_rewards = []\n",
        "\n",
        "        for _ in range(batch_size):\n",
        "            log_probs, rewards = run_episode(env, policy, device, render=render)\n",
        "            returns = discount_rewards(rewards, gamma)\n",
        "\n",
        "            # stack log_probs for this episode and make returns tensor\n",
        "            log_probs_tensor = torch.stack(log_probs)\n",
        "            returns_tensor = torch.tensor(returns, dtype=torch.float32, device=device)\n",
        "\n",
        "            # normalize returns (avoid division by zero)\n",
        "            if returns_tensor.size(0) > 1:\n",
        "                returns_tensor = (returns_tensor - returns_tensor.mean()) / (returns_tensor.std() + 1e-8)\n",
        "\n",
        "            batch_log_probs.append(log_probs_tensor)\n",
        "            batch_returns.append(returns_tensor)\n",
        "\n",
        "            ep_reward = float(sum(rewards))\n",
        "            batch_episode_rewards.append(ep_reward)\n",
        "            reward_deque.append(ep_reward)\n",
        "            running_rewards.append(ep_reward)\n",
        "            episode += 1\n",
        "\n",
        "        optimizer.zero_grad()\n",
        "        # initialize loss as tensor on correct device\n",
        "        loss = torch.tensor(0.0, dtype=torch.float32, device=device)\n",
        "\n",
        "        for lp, R in zip(batch_log_probs, batch_returns):\n",
        "            # (lp * R) multiplies per-timestep; sum over timesteps\n",
        "            loss = loss + (- (lp * R).sum())\n",
        "\n",
        "        loss = loss / batch_size\n",
        "        loss.backward()\n",
        "        optimizer.step()\n",
        "\n",
        "        mean_reward = np.mean(batch_episode_rewards)\n",
        "        mean_last100 = np.mean(reward_deque) if len(reward_deque) > 0 else mean_reward\n",
        "        mean_rewards_history.append(mean_last100)\n",
        "\n",
        "\n",
        "        if episode % 10 == 0 or episode == 1:\n",
        "            print(f\"Episode: {episode:4d}\\tBatch mean: {mean_reward:.2f}\\tLast100 mean: {mean_last100:.2f}\\tLoss: {loss.item():.4f}\")\n",
        "\n",
        "        if mean_last100 >= 195.0 and len(reward_deque) == 100:\n",
        "            print(f\"Solved in {episode} episodes! Average reward {mean_last100:.2f} over last 100 episodes.\")\n",
        "            break\n",
        "\n",
        "\n",
        "    total_time = time.time() - start_time\n",
        "    print(f\"Training finished after {episode} episodes and {total_time:.1f}s\")\n",
        "    try:\n",
        "        env.close()\n",
        "    except Exception:\n",
        "        pass\n",
        "\n",
        "    return policy, running_rewards, mean_rewards_history"
      ],
      "execution_count": 11,
      "outputs": []
    },
    {
      "cell_type": "code",
      "metadata": {
        "id": "4ceed4c3"
      },
      "source": [
        "def plot_rewards(running_rewards, mean_rewards_history):\n",
        "    plt.figure(figsize=(10,4))\n",
        "    plt.subplot(1,2,1)\n",
        "    plt.plot(running_rewards, alpha=0.6)\n",
        "    plt.title(\"Episode rewards\")\n",
        "    plt.xlabel(\"Episode\")\n",
        "    plt.ylabel(\"Reward\")\n",
        "\n",
        "    plt.subplot(1,2,2)\n",
        "    plt.plot(mean_rewards_history)\n",
        "    plt.title(\"100-episode moving mean\")\n",
        "    plt.xlabel(\"Batch\")\n",
        "    plt.tight_layout()\n",
        "    plt.show()"
      ],
      "execution_count": 12,
      "outputs": []
    },
    {
      "cell_type": "code",
      "metadata": {
        "colab": {
          "base_uri": "https://localhost:8080/",
          "height": 954
        },
        "id": "0ddf3fe6",
        "outputId": "02663ba7-433b-43c2-b6f5-9bedc2ae7a6d"
      },
      "source": [
        "if __name__ == \"__main__\":\n",
        "    policy, running_rewards, mean_hist = train_reinforce(\n",
        "        env_name='CartPole-v1',\n",
        "        hidden_size=128,\n",
        "        lr=1e-2,\n",
        "        gamma=0.99,\n",
        "        batch_size=10,    # adjust as needed\n",
        "        max_episodes=2000,\n",
        "        seed=42,\n",
        "        render=False\n",
        "    )\n",
        "    plot_rewards(running_rewards, mean_hist)"
      ],
      "execution_count": 13,
      "outputs": [
        {
          "output_type": "stream",
          "name": "stdout",
          "text": [
            "Episode:   10\tBatch mean: 23.00\tLast100 mean: 23.00\tLoss: 0.0273\n",
            "Episode:   20\tBatch mean: 32.90\tLast100 mean: 27.95\tLoss: -0.1826\n",
            "Episode:   30\tBatch mean: 24.80\tLast100 mean: 26.90\tLoss: -0.0333\n",
            "Episode:   40\tBatch mean: 20.60\tLast100 mean: 25.32\tLoss: 0.0472\n",
            "Episode:   50\tBatch mean: 19.70\tLast100 mean: 24.20\tLoss: -0.3498\n",
            "Episode:   60\tBatch mean: 26.20\tLast100 mean: 24.53\tLoss: -0.1563\n",
            "Episode:   70\tBatch mean: 44.40\tLast100 mean: 27.37\tLoss: -0.4737\n",
            "Episode:   80\tBatch mean: 60.40\tLast100 mean: 31.50\tLoss: 0.1794\n",
            "Episode:   90\tBatch mean: 58.60\tLast100 mean: 34.51\tLoss: 0.4122\n",
            "Episode:  100\tBatch mean: 40.30\tLast100 mean: 35.09\tLoss: 0.0772\n",
            "Episode:  110\tBatch mean: 52.80\tLast100 mean: 38.07\tLoss: 0.2238\n",
            "Episode:  120\tBatch mean: 54.00\tLast100 mean: 40.18\tLoss: -0.6352\n",
            "Episode:  130\tBatch mean: 56.20\tLast100 mean: 43.32\tLoss: 0.6252\n",
            "Episode:  140\tBatch mean: 60.30\tLast100 mean: 47.29\tLoss: -0.3158\n",
            "Episode:  150\tBatch mean: 54.90\tLast100 mean: 50.81\tLoss: -0.2538\n",
            "Episode:  160\tBatch mean: 58.90\tLast100 mean: 54.08\tLoss: -0.1306\n",
            "Episode:  170\tBatch mean: 64.00\tLast100 mean: 56.04\tLoss: 0.4507\n",
            "Episode:  180\tBatch mean: 56.30\tLast100 mean: 55.63\tLoss: -0.9534\n",
            "Episode:  190\tBatch mean: 89.20\tLast100 mean: 58.69\tLoss: 0.8541\n",
            "Episode:  200\tBatch mean: 100.70\tLast100 mean: 64.73\tLoss: 2.1261\n",
            "Episode:  210\tBatch mean: 120.70\tLast100 mean: 71.52\tLoss: -2.8003\n",
            "Episode:  220\tBatch mean: 117.60\tLast100 mean: 77.88\tLoss: -1.4384\n",
            "Episode:  230\tBatch mean: 154.60\tLast100 mean: 87.72\tLoss: -0.0764\n",
            "Episode:  240\tBatch mean: 163.70\tLast100 mean: 98.06\tLoss: -5.5151\n",
            "Episode:  250\tBatch mean: 279.90\tLast100 mean: 120.56\tLoss: -4.8386\n",
            "Episode:  260\tBatch mean: 366.90\tLast100 mean: 151.36\tLoss: -3.7773\n",
            "Episode:  270\tBatch mean: 217.90\tLast100 mean: 166.75\tLoss: 0.6888\n",
            "Episode:  280\tBatch mean: 440.40\tLast100 mean: 205.16\tLoss: 0.1415\n",
            "Solved in 280 episodes! Average reward 205.16 over last 100 episodes.\n",
            "Training finished after 280 episodes and 33.8s\n"
          ]
        },
        {
          "output_type": "display_data",
          "data": {
            "text/plain": [
              "<Figure size 1000x400 with 2 Axes>"
            ],
            "image/png": "[encoded data removed]"
          },
          "metadata": {}
        }
      ]
    },
    {
      "cell_type": "code",
      "source": [
        "import numpy as np\n",
        "\n",
        "# Fix for compatibility: map np.bool8 -> np.bool_\n",
        "if not hasattr(np, \"bool8\"):\n",
        "    np.bool8 = np.bool_"
      ],
      "metadata": {
        "id": "PPrigz24Vgcg"
      },
      "execution_count": 14,
      "outputs": []
    },
    {
      "cell_type": "code",
      "source": [
        "import numpy as np\n",
        "\n",
        "# Fix for compatibility: map np.bool8 → np.bool_\n",
        "if not hasattr(np, \"bool8\"):\n",
        "    np.bool8 = np.bool_\n"
      ],
      "metadata": {
        "id": "J_A9_sG3Vlfz"
      },
      "execution_count": 15,
      "outputs": []
    }
  ]
}